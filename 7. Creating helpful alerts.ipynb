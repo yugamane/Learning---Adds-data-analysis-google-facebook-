{
 "cells": [
  {
   "cell_type": "markdown",
   "metadata": {},
   "source": [
    "## Creating helpful alerts"
   ]
  },
  {
   "cell_type": "markdown",
   "metadata": {},
   "source": [
    "In this section we're going build! You've got all our data cleaned and processed. Now it's time to start making it work for you. In this notebook we'll put together a very simple alerts function that you can customised all day long."
   ]
  },
  {
   "cell_type": "code",
   "execution_count": 2,
   "metadata": {},
   "outputs": [],
   "source": [
    "import pandas as pd\n",
    "import matplotlib.pyplot as plt #importing matplotlib library\n",
    "%matplotlib inline"
   ]
  },
  {
   "cell_type": "code",
   "execution_count": 3,
   "metadata": {},
   "outputs": [],
   "source": [
    "ga_page_traffic_data = pd.read_csv('C:/Users/ysman/Documents/springboard/Timeseries Python Linkedin/Ex_Files_Python_Marketing/Ex_Files_Python_Marketing/Exercise Files/data/ga_data/ga_pages.csv', \n",
    "                                   skiprows=386, nrows=366, \n",
    "                                   usecols=['Day Index', 'Pageviews'], \n",
    "                                   parse_dates=['Day Index'],\n",
    "                                   index_col='Day Index')"
   ]
  },
  {
   "cell_type": "code",
   "execution_count": 4,
   "metadata": {},
   "outputs": [
    {
     "data": {
      "text/html": [
       "<div>\n",
       "<style scoped>\n",
       "    .dataframe tbody tr th:only-of-type {\n",
       "        vertical-align: middle;\n",
       "    }\n",
       "\n",
       "    .dataframe tbody tr th {\n",
       "        vertical-align: top;\n",
       "    }\n",
       "\n",
       "    .dataframe thead th {\n",
       "        text-align: right;\n",
       "    }\n",
       "</style>\n",
       "<table border=\"1\" class=\"dataframe\">\n",
       "  <thead>\n",
       "    <tr style=\"text-align: right;\">\n",
       "      <th></th>\n",
       "      <th>Pageviews</th>\n",
       "    </tr>\n",
       "    <tr>\n",
       "      <th>Day Index</th>\n",
       "      <th></th>\n",
       "    </tr>\n",
       "  </thead>\n",
       "  <tbody>\n",
       "    <tr>\n",
       "      <th>2018-08-31</th>\n",
       "      <td>14</td>\n",
       "    </tr>\n",
       "    <tr>\n",
       "      <th>2018-09-01</th>\n",
       "      <td>6</td>\n",
       "    </tr>\n",
       "    <tr>\n",
       "      <th>2018-09-02</th>\n",
       "      <td>17</td>\n",
       "    </tr>\n",
       "    <tr>\n",
       "      <th>2018-09-03</th>\n",
       "      <td>14</td>\n",
       "    </tr>\n",
       "    <tr>\n",
       "      <th>2018-09-04</th>\n",
       "      <td>11</td>\n",
       "    </tr>\n",
       "  </tbody>\n",
       "</table>\n",
       "</div>"
      ],
      "text/plain": [
       "            Pageviews\n",
       "Day Index            \n",
       "2018-08-31         14\n",
       "2018-09-01          6\n",
       "2018-09-02         17\n",
       "2018-09-03         14\n",
       "2018-09-04         11"
      ]
     },
     "execution_count": 4,
     "metadata": {},
     "output_type": "execute_result"
    }
   ],
   "source": [
    "ga_page_traffic_data.head()"
   ]
  },
  {
   "cell_type": "code",
   "execution_count": 5,
   "metadata": {},
   "outputs": [
    {
     "name": "stdout",
     "output_type": "stream",
     "text": [
      "<class 'pandas.core.frame.DataFrame'>\n",
      "DatetimeIndex: 366 entries, 2018-08-31 to 2019-08-31\n",
      "Data columns (total 1 columns):\n",
      " #   Column     Non-Null Count  Dtype\n",
      "---  ------     --------------  -----\n",
      " 0   Pageviews  366 non-null    int64\n",
      "dtypes: int64(1)\n",
      "memory usage: 5.7 KB\n"
     ]
    }
   ],
   "source": [
    "ga_page_traffic_data.info()"
   ]
  },
  {
   "cell_type": "markdown",
   "metadata": {},
   "source": [
    "## Creating an alert for loop"
   ]
  },
  {
   "cell_type": "markdown",
   "metadata": {},
   "source": [
    "In this viseo we'll look at creating an alert that signals whether a number is positive, negative or no change."
   ]
  },
  {
   "cell_type": "code",
   "execution_count": 6,
   "metadata": {},
   "outputs": [],
   "source": [
    "#Create a variable called num and assign it a integer \n",
    "num = -1"
   ]
  },
  {
   "cell_type": "code",
   "execution_count": 7,
   "metadata": {},
   "outputs": [
    {
     "name": "stdout",
     "output_type": "stream",
     "text": [
      "It's DOWN!\n"
     ]
    }
   ],
   "source": [
    "#Write an if statement that prints if the number is up, down or no change\n",
    "if num > 0:\n",
    "    print(\"It's UP!\")\n",
    "    \n",
    "elif num == 0:\n",
    "    print(\"No Change\")\n",
    "else:\n",
    "    print(\"It's DOWN!\")"
   ]
  },
  {
   "cell_type": "markdown",
   "metadata": {},
   "source": [
    "## Filter by date range and get the difference"
   ]
  },
  {
   "cell_type": "markdown",
   "metadata": {},
   "source": [
    "We're goign to create a way of filtering our data by date range. To do this we need a start and end date."
   ]
  },
  {
   "cell_type": "code",
   "execution_count": 9,
   "metadata": {},
   "outputs": [],
   "source": [
    "start = '2018-08-31'\n",
    "end = '2018-09-30'"
   ]
  },
  {
   "cell_type": "code",
   "execution_count": 10,
   "metadata": {},
   "outputs": [
    {
     "data": {
      "text/plain": [
       "array([ True, False, False, False, False, False, False, False, False,\n",
       "       False, False, False, False, False, False, False, False, False,\n",
       "       False, False, False, False, False, False, False, False, False,\n",
       "       False, False, False])"
      ]
     },
     "execution_count": 10,
     "metadata": {},
     "output_type": "execute_result"
    }
   ],
   "source": [
    "#Create a mask that will select two dates. A mask will return a boolean (True/False) array \n",
    "mask = ((ga_page_traffic_data.index == start) | (ga_page_traffic_data.index == end))\n",
    "mask[:30]"
   ]
  },
  {
   "cell_type": "code",
   "execution_count": 11,
   "metadata": {},
   "outputs": [
    {
     "data": {
      "text/html": [
       "<div>\n",
       "<style scoped>\n",
       "    .dataframe tbody tr th:only-of-type {\n",
       "        vertical-align: middle;\n",
       "    }\n",
       "\n",
       "    .dataframe tbody tr th {\n",
       "        vertical-align: top;\n",
       "    }\n",
       "\n",
       "    .dataframe thead th {\n",
       "        text-align: right;\n",
       "    }\n",
       "</style>\n",
       "<table border=\"1\" class=\"dataframe\">\n",
       "  <thead>\n",
       "    <tr style=\"text-align: right;\">\n",
       "      <th></th>\n",
       "      <th>Pageviews</th>\n",
       "    </tr>\n",
       "    <tr>\n",
       "      <th>Day Index</th>\n",
       "      <th></th>\n",
       "    </tr>\n",
       "  </thead>\n",
       "  <tbody>\n",
       "    <tr>\n",
       "      <th>2018-08-31</th>\n",
       "      <td>14</td>\n",
       "    </tr>\n",
       "    <tr>\n",
       "      <th>2018-09-30</th>\n",
       "      <td>2</td>\n",
       "    </tr>\n",
       "  </tbody>\n",
       "</table>\n",
       "</div>"
      ],
      "text/plain": [
       "            Pageviews\n",
       "Day Index            \n",
       "2018-08-31         14\n",
       "2018-09-30          2"
      ]
     },
     "execution_count": 11,
     "metadata": {},
     "output_type": "execute_result"
    }
   ],
   "source": [
    "#Apply the mask to the dataframe\n",
    "ga_page_traffic_data[mask]"
   ]
  },
  {
   "cell_type": "code",
   "execution_count": 12,
   "metadata": {},
   "outputs": [],
   "source": [
    "#Now we want to calculate the difference between the two rows and select the number\n",
    "diff = ga_page_traffic_data[mask].diff().max()[0]"
   ]
  },
  {
   "cell_type": "code",
   "execution_count": 13,
   "metadata": {},
   "outputs": [
    {
     "data": {
      "text/plain": [
       "-12.0"
      ]
     },
     "execution_count": 13,
     "metadata": {},
     "output_type": "execute_result"
    }
   ],
   "source": [
    "diff"
   ]
  },
  {
   "cell_type": "code",
   "execution_count": 14,
   "metadata": {},
   "outputs": [
    {
     "data": {
      "text/plain": [
       "-12.0"
      ]
     },
     "execution_count": 14,
     "metadata": {},
     "output_type": "execute_result"
    }
   ],
   "source": [
    "ga_page_traffic_data[mask].diff().max()[0]"
   ]
  },
  {
   "cell_type": "markdown",
   "metadata": {},
   "source": [
    "## Create an Alert!"
   ]
  },
  {
   "cell_type": "markdown",
   "metadata": {},
   "source": [
    "Now that we can select data and check the differene between two rows it's possible to create an alert that will get us the data we need if something has went wrong."
   ]
  },
  {
   "cell_type": "code",
   "execution_count": 15,
   "metadata": {},
   "outputs": [],
   "source": [
    "start = '2018-08-31'\n",
    "end = '2018-09-30'\n",
    "\n",
    "def alerts(df, start, end):\n",
    "    mask = ((df.index == start) | (df.index == end)) #Create a mask\n",
    "    diff = df[mask].diff().max()[0] #select the difference between the two dates\n",
    "    chart = df[mask] #create a df with the mask applied\n",
    "    if diff > 0:\n",
    "        print(\"Traffic is up by {}\".format(diff)) #print if traffic is above 0\n",
    "    \n",
    "    elif diff == 0:\n",
    "        print(\"No Change\") #print if traffic is unchanged\n",
    "        \n",
    "    else:\n",
    "        print(\"Traffic is down by {}\".format(diff))  #print if traffic is below 0\n",
    "        \n",
    "        #Print a bar chart to show the troublesome data\n",
    "        fig = plt.figure(figsize=(15,5))\n",
    "\n",
    "        ax = fig.add_subplot(111)\n",
    "\n",
    "        figsize = (15,8)\n",
    "\n",
    "        chart.plot(kind='bar',\n",
    "                  figsize=figsize,\n",
    "                  linewidth=0.5,\n",
    "                  ax=ax\n",
    "                 )\n",
    "\n",
    "        #Global Plot settings\n",
    "        plt.title('{} - {} : Traffic Drop in {}'.format(start,\n",
    "                                                        end,\n",
    "                                                        df.columns.values)) # set chart name\n",
    "\n",
    "        #display the charts\n",
    "        plt.show()         \n",
    "    "
   ]
  },
  {
   "cell_type": "code",
   "execution_count": 16,
   "metadata": {},
   "outputs": [
    {
     "name": "stdout",
     "output_type": "stream",
     "text": [
      "Traffic is down by -12.0\n"
     ]
    },
    {
     "data": {
      "image/png": "[encoded data removed]",
      "text/plain": [
       "<Figure size 1080x576 with 1 Axes>"
      ]
     },
     "metadata": {
      "needs_background": "light"
     },
     "output_type": "display_data"
    }
   ],
   "source": [
    "#Run the function\n",
    "alerts(ga_page_traffic_data, start, end)"
   ]
  },
  {
   "cell_type": "code",
   "execution_count": null,
   "metadata": {},
   "outputs": [],
   "source": []
  }
 ],
 "metadata": {
  "kernelspec": {
   "display_name": "Python 3",
   "language": "python",
   "name": "python3"
  },
  "language_info": {
   "codemirror_mode": {
    "name": "ipython",
    "version": 3
   },
   "file_extension": ".py",
   "mimetype": "text/x-python",
   "name": "python",
   "nbconvert_exporter": "python",
   "pygments_lexer": "ipython3",
   "version": "3.7.6"
  }
 },
 "nbformat": 4,
 "nbformat_minor": 2
}
